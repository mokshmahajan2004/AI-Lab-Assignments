{
  "nbformat": 4,
  "nbformat_minor": 0,
  "metadata": {
    "colab": {
      "provenance": [],
      "mount_file_id": "1vSSXbx0Jeh4KNyZPTQvnjDF5rs9VWbE8",
      "authorship_tag": "ABX9TyOX19MS8VX2vhz+3s6z+0wC",
      "include_colab_link": true
    },
    "kernelspec": {
      "name": "python3",
      "display_name": "Python 3"
    },
    "language_info": {
      "name": "python"
    }
  },
  "cells": [
    {
      "cell_type": "markdown",
      "metadata": {
        "id": "view-in-github",
        "colab_type": "text"
      },
      "source": [
        "<a href=\"https://colab.research.google.com/github/mokshmahajan2004/AI-Lab-Assignments/blob/main/Lab1.ipynb\" target=\"_parent\"><img src=\"https://colab.research.google.com/assets/colab-badge.svg\" alt=\"Open In Colab\"/></a>"
      ]
    },
    {
      "cell_type": "markdown",
      "source": [
        "# **1. Printing and Variables**\n",
        "\n",
        "---\n",
        "\n"
      ],
      "metadata": {
        "id": "8A2z6AcHvg5B"
      }
    },
    {
      "cell_type": "markdown",
      "source": [
        "•\tWrite a program to print \"Hello, World!\""
      ],
      "metadata": {
        "id": "CN6vdp4bvvJx"
      }
    },
    {
      "cell_type": "code",
      "execution_count": null,
      "metadata": {
        "colab": {
          "base_uri": "https://localhost:8080/"
        },
        "id": "NRzwlF_nvR5q",
        "outputId": "f2a2957e-5252-451d-9fdc-d062eba61b96"
      },
      "outputs": [
        {
          "output_type": "stream",
          "name": "stdout",
          "text": [
            "Hello, World!\n"
          ]
        }
      ],
      "source": [
        "print(\"Hello, World!\")"
      ]
    },
    {
      "cell_type": "markdown",
      "source": [
        "•\tDeclare variables of different data types (string, integer, float) and print their values."
      ],
      "metadata": {
        "id": "2hmM2ZiNvdlg"
      }
    },
    {
      "cell_type": "code",
      "source": [
        "a = 10\n",
        "print(a)\n",
        "b=10.01\n",
        "print(b)\n",
        "c=\"hello\"\n",
        "print(c)"
      ],
      "metadata": {
        "colab": {
          "base_uri": "https://localhost:8080/"
        },
        "id": "LU3S2kzWyVx9",
        "outputId": "dc2a1427-e809-4c2a-c55a-8c307dbf3f72"
      },
      "execution_count": null,
      "outputs": [
        {
          "output_type": "stream",
          "name": "stdout",
          "text": [
            "10\n",
            "10.01\n",
            "hello\n"
          ]
        }
      ]
    },
    {
      "cell_type": "markdown",
      "source": [
        "•\tSwap the values of two variables without using a third variable."
      ],
      "metadata": {
        "id": "KXjxsulvz70I"
      }
    },
    {
      "cell_type": "code",
      "source": [
        "a=10\n",
        "b=20\n",
        "a=a+b\n",
        "b=a-b\n",
        "a=a-b\n",
        "print('a is',a )\n",
        "print('b is',b)"
      ],
      "metadata": {
        "colab": {
          "base_uri": "https://localhost:8080/"
        },
        "id": "Do0gx-xT0B3D",
        "outputId": "7c9d4744-94dc-4274-ff14-d6034b4efa6f"
      },
      "execution_count": null,
      "outputs": [
        {
          "output_type": "stream",
          "name": "stdout",
          "text": [
            "a is 20\n",
            "b is 10\n"
          ]
        }
      ]
    },
    {
      "cell_type": "markdown",
      "source": [
        "# **2. Data Types and Type Conversion**\n",
        "\n",
        "---\n",
        "\n"
      ],
      "metadata": {
        "id": "Bs_3Kdac07eK"
      }
    },
    {
      "cell_type": "markdown",
      "source": [
        "•\tTake input from the user and print the data type of the entered value."
      ],
      "metadata": {
        "id": "7IaCpSjr1DOD"
      }
    },
    {
      "cell_type": "code",
      "source": [
        "name=input(\"Enter a value: \")\n",
        "print(type(name))"
      ],
      "metadata": {
        "colab": {
          "base_uri": "https://localhost:8080/"
        },
        "id": "uDzNjpy8jxad",
        "outputId": "4e9d8127-98fc-4adf-8516-bba876c25dee"
      },
      "execution_count": null,
      "outputs": [
        {
          "output_type": "stream",
          "name": "stdout",
          "text": [
            "Enter a value: 12\n",
            "<class 'str'>\n"
          ]
        }
      ]
    },
    {
      "cell_type": "code",
      "source": [
        "print(type(eval(input(\"Enter a value: \"))))\n"
      ],
      "metadata": {
        "colab": {
          "base_uri": "https://localhost:8080/"
        },
        "id": "2CIMlcYHdMIM",
        "outputId": "28860677-0c87-49f3-8e42-be49d6536d34"
      },
      "execution_count": null,
      "outputs": [
        {
          "output_type": "stream",
          "name": "stdout",
          "text": [
            "Enter a value: 15\n",
            "<class 'int'>\n"
          ]
        }
      ]
    },
    {
      "cell_type": "markdown",
      "source": [
        "•\tConvert a string to an integer and perform arithmetic operations.\n"
      ],
      "metadata": {
        "id": "USPAuSNPgEeY"
      }
    },
    {
      "cell_type": "code",
      "source": [
        "a,b=1,\"2\"\n",
        "c=(a+int(b))\n",
        "print(c)"
      ],
      "metadata": {
        "colab": {
          "base_uri": "https://localhost:8080/"
        },
        "id": "5_8gmQUsgJ1J",
        "outputId": "a81e9673-ca19-4984-b06f-d22d72428fa1"
      },
      "execution_count": null,
      "outputs": [
        {
          "output_type": "stream",
          "name": "stdout",
          "text": [
            "3\n"
          ]
        }
      ]
    },
    {
      "cell_type": "markdown",
      "source": [
        "•\tExplore implicit and explicit type conversions in Python."
      ],
      "metadata": {
        "id": "b_CGz-2mjK_M"
      }
    },
    {
      "cell_type": "code",
      "source": [
        "# Integer to float conversion\n",
        "num_int = 10\n",
        "num_float = 2.5\n",
        "result = num_int + num_float  # Implicit conversion happens here\n",
        "print(result)  # Output: 12.5\n",
        "print(type(result))  # Output: <class 'float'>\n"
      ],
      "metadata": {
        "colab": {
          "base_uri": "https://localhost:8080/"
        },
        "id": "xoJXd7JrjKJu",
        "outputId": "91a06d2b-449f-4a55-91c7-e4ca95d14c4b"
      },
      "execution_count": null,
      "outputs": [
        {
          "output_type": "stream",
          "name": "stdout",
          "text": [
            "12.5\n",
            "<class 'float'>\n"
          ]
        }
      ]
    },
    {
      "cell_type": "code",
      "source": [
        "# Explicit conversion using int() and str()\n",
        "num_str = \"100\"\n",
        "num_int = int(num_str)  # Converts string to integer\n",
        "print(num_int, type(num_int))  # Output: 100 <class 'int'>"
      ],
      "metadata": {
        "colab": {
          "base_uri": "https://localhost:8080/"
        },
        "id": "7Cy_92GvlGRh",
        "outputId": "8d848df0-01f3-4500-d0d2-5a3e0805ac05"
      },
      "execution_count": null,
      "outputs": [
        {
          "output_type": "stream",
          "name": "stdout",
          "text": [
            "100 <class 'int'>\n"
          ]
        }
      ]
    },
    {
      "cell_type": "markdown",
      "source": [
        "# **3. Conditional Statements**\n",
        "\n",
        "---\n",
        "\n"
      ],
      "metadata": {
        "id": "mr7C1Bc6lOeR"
      }
    },
    {
      "cell_type": "markdown",
      "source": [
        "•\tWrite a program to check if a number is positive, negative, or zero."
      ],
      "metadata": {
        "id": "nqiRA0gilT-M"
      }
    },
    {
      "cell_type": "code",
      "source": [
        "num=int(input(\"Enter a number: \"))\n",
        "if num>0:\n",
        "  print(\"Positive\")\n",
        "elif num<0:\n",
        "  print(\"Negative\")\n",
        "else:\n",
        "  print(\"Zero\")"
      ],
      "metadata": {
        "colab": {
          "base_uri": "https://localhost:8080/"
        },
        "id": "ZO6f8hInlX4Z",
        "outputId": "047c4988-d661-4299-80cf-bbfe53cfa70d"
      },
      "execution_count": null,
      "outputs": [
        {
          "output_type": "stream",
          "name": "stdout",
          "text": [
            "Enter a number: 10\n",
            "Positive\n"
          ]
        }
      ]
    },
    {
      "cell_type": "markdown",
      "source": [
        "•\tCreate a program to determine if a given year is a leap year."
      ],
      "metadata": {
        "id": "nmVocEiHFFbV"
      }
    },
    {
      "cell_type": "code",
      "source": [
        "year=int(input(\"Enter a year: \"))\n",
        "if (year % 4 == 0 and year % 100 != 0) or (year % 400 == 0):\n",
        "  print(\"Leap Year\")\n",
        "else:\n",
        "  print(\"Not a Leap Year\")"
      ],
      "metadata": {
        "colab": {
          "base_uri": "https://localhost:8080/"
        },
        "id": "00wp0rHUFMS3",
        "outputId": "602d19b6-6699-49d5-dd06-c31bda5744d7"
      },
      "execution_count": null,
      "outputs": [
        {
          "output_type": "stream",
          "name": "stdout",
          "text": [
            "Enter a year: 1900\n",
            "Not a Leap Year\n"
          ]
        }
      ]
    },
    {
      "cell_type": "markdown",
      "source": [
        "•\tDevelop a simple grade calculator based on user input for marks."
      ],
      "metadata": {
        "id": "CWZzgnihF_ec"
      }
    },
    {
      "cell_type": "code",
      "source": [
        "marks=int(input(\"Enter your marks: \"))\n",
        "if marks>=90:\n",
        "  print(\"Grade A\")\n",
        "elif marks>=80:\n",
        "  print(\"Grade B\")\n",
        "elif marks>=70:\n",
        "  print(\"Grade C\")"
      ],
      "metadata": {
        "colab": {
          "base_uri": "https://localhost:8080/"
        },
        "id": "PJj1HWLtGIAa",
        "outputId": "8f7b9bde-83f8-4573-d307-6581c3e1f836"
      },
      "execution_count": null,
      "outputs": [
        {
          "output_type": "stream",
          "name": "stdout",
          "text": [
            "Enter your marks: 72\n",
            "Grade C\n"
          ]
        }
      ]
    },
    {
      "cell_type": "markdown",
      "source": [
        "# **4. Loops**\n",
        "\n",
        "---\n",
        "\n"
      ],
      "metadata": {
        "id": "sSuCx_3DJrb2"
      }
    },
    {
      "cell_type": "markdown",
      "source": [
        "•\tWrite a program to print numbers from 1 to 100."
      ],
      "metadata": {
        "id": "dP7Qax5vJ7uG"
      }
    },
    {
      "cell_type": "code",
      "source": [
        "for i in range(1,101):\n",
        "  print(i)"
      ],
      "metadata": {
        "colab": {
          "base_uri": "https://localhost:8080/"
        },
        "id": "lZ5gWMDaKIGj",
        "outputId": "7e6dab91-01c1-460d-eb99-c4b4d1a5b605"
      },
      "execution_count": null,
      "outputs": [
        {
          "output_type": "stream",
          "name": "stdout",
          "text": [
            "1\n",
            "2\n",
            "3\n",
            "4\n",
            "5\n",
            "6\n",
            "7\n",
            "8\n",
            "9\n",
            "10\n",
            "11\n",
            "12\n",
            "13\n",
            "14\n",
            "15\n",
            "16\n",
            "17\n",
            "18\n",
            "19\n",
            "20\n",
            "21\n",
            "22\n",
            "23\n",
            "24\n",
            "25\n",
            "26\n",
            "27\n",
            "28\n",
            "29\n",
            "30\n",
            "31\n",
            "32\n",
            "33\n",
            "34\n",
            "35\n",
            "36\n",
            "37\n",
            "38\n",
            "39\n",
            "40\n",
            "41\n",
            "42\n",
            "43\n",
            "44\n",
            "45\n",
            "46\n",
            "47\n",
            "48\n",
            "49\n",
            "50\n",
            "51\n",
            "52\n",
            "53\n",
            "54\n",
            "55\n",
            "56\n",
            "57\n",
            "58\n",
            "59\n",
            "60\n",
            "61\n",
            "62\n",
            "63\n",
            "64\n",
            "65\n",
            "66\n",
            "67\n",
            "68\n",
            "69\n",
            "70\n",
            "71\n",
            "72\n",
            "73\n",
            "74\n",
            "75\n",
            "76\n",
            "77\n",
            "78\n",
            "79\n",
            "80\n",
            "81\n",
            "82\n",
            "83\n",
            "84\n",
            "85\n",
            "86\n",
            "87\n",
            "88\n",
            "89\n",
            "90\n",
            "91\n",
            "92\n",
            "93\n",
            "94\n",
            "95\n",
            "96\n",
            "97\n",
            "98\n",
            "99\n",
            "100\n"
          ]
        }
      ]
    },
    {
      "cell_type": "markdown",
      "source": [
        "•\tCreate a multiplication table generator."
      ],
      "metadata": {
        "id": "kyoW5w6LKoS5"
      }
    },
    {
      "cell_type": "code",
      "source": [
        "num=int(input(\"Enter a number: \"))\n",
        "for i in range(1,11):\n",
        "  print(num,\"x\",i,\"=\",num*i)"
      ],
      "metadata": {
        "colab": {
          "base_uri": "https://localhost:8080/"
        },
        "id": "UlPsKG5rKusz",
        "outputId": "2370c23e-9bb0-4b3f-e56b-dc60cd2731f0"
      },
      "execution_count": null,
      "outputs": [
        {
          "output_type": "stream",
          "name": "stdout",
          "text": [
            "Enter a number: 10\n",
            "10 x 1 = 10\n",
            "10 x 2 = 20\n",
            "10 x 3 = 30\n",
            "10 x 4 = 40\n",
            "10 x 5 = 50\n",
            "10 x 6 = 60\n",
            "10 x 7 = 70\n",
            "10 x 8 = 80\n",
            "10 x 9 = 90\n",
            "10 x 10 = 100\n"
          ]
        }
      ]
    },
    {
      "cell_type": "markdown",
      "source": [
        "•\tImplement a program to find the sum of all even numbers up to a given limit."
      ],
      "metadata": {
        "id": "32wNt5pKK-wV"
      }
    },
    {
      "cell_type": "code",
      "source": [
        "num=int(input(\"Enter a number: \"))\n",
        "sum=0\n",
        "for i in range(1,num+1):\n",
        "  if i%2==0:\n",
        "    sum+=i\n",
        "print(sum)"
      ],
      "metadata": {
        "colab": {
          "base_uri": "https://localhost:8080/"
        },
        "id": "Rz-a0B_rLLry",
        "outputId": "1aa198e7-1cd0-4765-b1a4-af764c201962"
      },
      "execution_count": null,
      "outputs": [
        {
          "output_type": "stream",
          "name": "stdout",
          "text": [
            "Enter a number: 10\n",
            "30\n"
          ]
        }
      ]
    },
    {
      "cell_type": "markdown",
      "source": [
        "# **5. Functions**\n",
        "\n",
        "---\n",
        "\n"
      ],
      "metadata": {
        "id": "tc5fDeaAMCQp"
      }
    },
    {
      "cell_type": "markdown",
      "source": [
        "•\tCreate a function to calculate the factorial of a number."
      ],
      "metadata": {
        "id": "2p4QaG0jMH8w"
      }
    },
    {
      "cell_type": "code",
      "source": [
        "def fact(n):\n",
        "  if n==0:\n",
        "    return 1\n",
        "  else:\n",
        "    return n*fact(n-1)\n",
        "fact(5)"
      ],
      "metadata": {
        "colab": {
          "base_uri": "https://localhost:8080/"
        },
        "id": "NXzvixJhMfpX",
        "outputId": "228cf3db-d109-4f6f-fd9b-4685c1d353a4"
      },
      "execution_count": null,
      "outputs": [
        {
          "output_type": "execute_result",
          "data": {
            "text/plain": [
              "120"
            ]
          },
          "metadata": {},
          "execution_count": 14
        }
      ]
    },
    {
      "cell_type": "markdown",
      "source": [
        "•\tWrite a function to check if a string is a palindrome."
      ],
      "metadata": {
        "id": "MI1dXrUaMo1K"
      }
    },
    {
      "cell_type": "code",
      "source": [
        "def is_palindrome(s):\n",
        "    return s == s[::-1]\n",
        "\n",
        "# Example usage\n",
        "string = input(\"Enter a string: \")\n",
        "if is_palindrome(string):\n",
        "    print(f\"'{string}' is a palindrome.\")\n",
        "else:\n",
        "    print(f\"'{string}' is not a palindrome.\")\n"
      ],
      "metadata": {
        "colab": {
          "base_uri": "https://localhost:8080/"
        },
        "id": "RVoyJLbsMoVa",
        "outputId": "8e67b780-3fd9-4989-abc3-6d7124aabb83"
      },
      "execution_count": 13,
      "outputs": [
        {
          "output_type": "stream",
          "name": "stdout",
          "text": [
            "Enter a string: abcba\n",
            "'abcba' is a palindrome.\n"
          ]
        }
      ]
    },
    {
      "cell_type": "markdown",
      "source": [
        "•\tDevelop a function to find the greatest common divisor (GCD) of two numbers."
      ],
      "metadata": {
        "id": "5NoWVNNlOEiE"
      }
    },
    {
      "cell_type": "code",
      "source": [
        "num1=int(input(\"Enter a number: \"))\n",
        "num2=int(input(\"Enter a number: \"))\n",
        "def gcd(a,b):\n",
        "  if b==0:\n",
        "    return a\n",
        "  else:\n",
        "    return gcd(b,a%b)\n",
        "print(gcd(num1,num2))"
      ],
      "metadata": {
        "colab": {
          "base_uri": "https://localhost:8080/"
        },
        "id": "cUEVGcnsOEDL",
        "outputId": "c029fa64-1e5c-4517-d673-cd66a296d05b"
      },
      "execution_count": null,
      "outputs": [
        {
          "output_type": "stream",
          "name": "stdout",
          "text": [
            "Enter a number: 10\n",
            "Enter a number: 7\n",
            "1\n"
          ]
        }
      ]
    },
    {
      "cell_type": "markdown",
      "source": [
        "# **6. Lists**\n",
        "\n",
        "---\n",
        "\n"
      ],
      "metadata": {
        "id": "rXi6_DgZQIPS"
      }
    },
    {
      "cell_type": "markdown",
      "source": [
        "•\tWrite a program to find the largest and smallest elements in a list."
      ],
      "metadata": {
        "id": "KhV8DEEfQMfP"
      }
    },
    {
      "cell_type": "code",
      "source": [
        "list1=[2,4,1,6]\n",
        "print(max(list1))\n",
        "print(min(list1))"
      ],
      "metadata": {
        "colab": {
          "base_uri": "https://localhost:8080/"
        },
        "id": "TYa555WOQPUG",
        "outputId": "c75c8d01-b486-4c82-aaa3-1bf822ff05ed"
      },
      "execution_count": null,
      "outputs": [
        {
          "output_type": "stream",
          "name": "stdout",
          "text": [
            "6\n",
            "1\n"
          ]
        }
      ]
    },
    {
      "cell_type": "markdown",
      "source": [
        "•\tReverse a list without using built-in functions."
      ],
      "metadata": {
        "id": "SPF0XBiafGyw"
      }
    },
    {
      "cell_type": "code",
      "source": [
        "list1=[2,4,1,6]\n",
        "list1.reverse()\n",
        "print(list1)"
      ],
      "metadata": {
        "colab": {
          "base_uri": "https://localhost:8080/"
        },
        "id": "-tW8qJn0fTyP",
        "outputId": "fda779dc-0f4c-4590-bb8d-ae807528bb90"
      },
      "execution_count": null,
      "outputs": [
        {
          "output_type": "stream",
          "name": "stdout",
          "text": [
            "[6, 1, 4, 2]\n"
          ]
        }
      ]
    },
    {
      "cell_type": "markdown",
      "source": [
        "•\tRemove duplicates from a list and display the result."
      ],
      "metadata": {
        "id": "t_jBs93xfa0M"
      }
    },
    {
      "cell_type": "code",
      "source": [
        "list1=[2,4,1,6,1,2,3]\n",
        "list2=[]\n",
        "for i in list1:\n",
        "  if i not in list2:\n",
        "    list2.append(i)\n",
        "print(list2)"
      ],
      "metadata": {
        "colab": {
          "base_uri": "https://localhost:8080/"
        },
        "id": "lpjsppzrffy0",
        "outputId": "346bb49f-5127-432d-83a4-22a247ee7fd8"
      },
      "execution_count": null,
      "outputs": [
        {
          "output_type": "stream",
          "name": "stdout",
          "text": [
            "[2, 4, 1, 6, 3]\n"
          ]
        }
      ]
    },
    {
      "cell_type": "markdown",
      "source": [
        "# **7. Strings**\n",
        "\n",
        "---\n",
        "\n"
      ],
      "metadata": {
        "id": "2dHi-l8kfuGS"
      }
    },
    {
      "cell_type": "markdown",
      "source": [
        "•\tCount the number of vowels in a string."
      ],
      "metadata": {
        "id": "45DlRBeIfwKP"
      }
    },
    {
      "cell_type": "markdown",
      "source": [],
      "metadata": {
        "id": "KrNRWRjLp_8W"
      }
    },
    {
      "cell_type": "code",
      "source": [
        "count=0\n",
        "word=str(input(\"Enter a word: \"))\n",
        "for i in word:\n",
        "  if i in \"aeiouAEIOU\":\n",
        "    count+=1\n",
        "print(count)"
      ],
      "metadata": {
        "colab": {
          "base_uri": "https://localhost:8080/"
        },
        "id": "JFqib3fOfzRt",
        "outputId": "8b28a0ce-a5ef-415e-ac8a-6777fd3cdef3"
      },
      "execution_count": null,
      "outputs": [
        {
          "output_type": "stream",
          "name": "stdout",
          "text": [
            "Enter a word: moksh\n",
            "1\n"
          ]
        }
      ]
    },
    {
      "cell_type": "markdown",
      "source": [
        "•\tReverse a string without using slicing."
      ],
      "metadata": {
        "id": "KTmWJnSgqEwq"
      }
    },
    {
      "cell_type": "code",
      "source": [
        "word=str(input(\"Enter a word: \"))\n",
        "for i in range(len(word)-1,-1,-1):\n",
        "  print(word[i],end=\"\")"
      ],
      "metadata": {
        "colab": {
          "base_uri": "https://localhost:8080/"
        },
        "id": "HkstzgycqIiQ",
        "outputId": "3c2dc280-5fc5-4c58-9d4f-7fbba0e735c5"
      },
      "execution_count": null,
      "outputs": [
        {
          "output_type": "stream",
          "name": "stdout",
          "text": [
            "Enter a word: moksh\n",
            "hskom"
          ]
        }
      ]
    },
    {
      "cell_type": "markdown",
      "source": [
        "•\tFind the frequency of each character in a string."
      ],
      "metadata": {
        "id": "dIn7qiJyqwnY"
      }
    },
    {
      "cell_type": "code",
      "source": [
        "word=str(input(\"Enter a word: \"))\n",
        "freq={}\n",
        "for i in word:\n",
        "  if i in freq:\n",
        "    freq[i]+=1\n",
        "  else:\n",
        "    freq[i]=1\n",
        "print(freq)"
      ],
      "metadata": {
        "colab": {
          "base_uri": "https://localhost:8080/"
        },
        "id": "rf45wfRiqzhN",
        "outputId": "2c56222e-118e-40ce-cdc7-e2889255be4f"
      },
      "execution_count": null,
      "outputs": [
        {
          "output_type": "stream",
          "name": "stdout",
          "text": [
            "Enter a word: moksh\n",
            "{'m': 1, 'o': 1, 'k': 1, 's': 1, 'h': 1}\n"
          ]
        }
      ]
    },
    {
      "cell_type": "markdown",
      "source": [
        "# **8. Dictionaries**\n",
        "\n",
        "---\n",
        "\n"
      ],
      "metadata": {
        "id": "fU-4Jkdcq8fT"
      }
    },
    {
      "cell_type": "markdown",
      "source": [
        "•\tCreate a dictionary to store student names and their grades. Display the highest and lowest grades."
      ],
      "metadata": {
        "id": "ZcOf6LwEq_oK"
      }
    },
    {
      "cell_type": "code",
      "source": [
        "# Predefined dictionary of students and their grades\n",
        "students = {\n",
        "    \"Ram\": 85,\n",
        "    \"Shyam\": 92,\n",
        "    \"Khyati\": 78,\n",
        "    \"Diya\": 95,\n",
        "    \"Sia\": 88\n",
        "}\n",
        "\n",
        "# Find the highest and lowest grades\n",
        "highest_grade = max(students.values())\n",
        "lowest_grade = min(students.values())\n",
        "\n",
        "# Find the students with the highest and lowest grades\n",
        "highest_students = [name for name, grade in students.items() if grade == highest_grade]\n",
        "lowest_students = [name for name, grade in students.items() if grade == lowest_grade]\n",
        "\n",
        "# Display the results\n",
        "print(\"\\nResults:\")\n",
        "print(f\"Highest Grade: {highest_grade}, achieved by: {', '.join(highest_students)}\")\n",
        "print(f\"Lowest Grade: {lowest_grade}, achieved by: {', '.join(lowest_students)}\")\n"
      ],
      "metadata": {
        "colab": {
          "base_uri": "https://localhost:8080/"
        },
        "id": "pVPZs2aSrFhy",
        "outputId": "7dfce43f-041f-48f3-ea26-75333deb7b35"
      },
      "execution_count": null,
      "outputs": [
        {
          "output_type": "stream",
          "name": "stdout",
          "text": [
            "\n",
            "Results:\n",
            "Highest Grade: 95, achieved by: Diya\n",
            "Lowest Grade: 78, achieved by: Khyati\n"
          ]
        }
      ]
    },
    {
      "cell_type": "markdown",
      "source": [
        "•\tCount the occurrences of each word in a sentence."
      ],
      "metadata": {
        "id": "VB0kUUSqhyg0"
      }
    },
    {
      "cell_type": "code",
      "source": [
        "# Input a sentence from the user\n",
        "sentence = input(\"Enter a sentence: \")\n",
        "\n",
        "# Split the sentence into words\n",
        "words = sentence.split()\n",
        "\n",
        "# Create a dictionary to store word counts\n",
        "word_count = {}\n",
        "\n",
        "# Count the occurrences of each word\n",
        "for word in words:\n",
        "    word = word.lower()  # Convert to lowercase for case-insensitive counting\n",
        "    word_count[word] = word_count.get(word, 0) + 1\n",
        "\n",
        "# Display the word count\n",
        "print(\"\\nWord Occurrences:\")\n",
        "for word, count in word_count.items():\n",
        "    print(f\"{word}: {count}\")\n"
      ],
      "metadata": {
        "colab": {
          "base_uri": "https://localhost:8080/"
        },
        "id": "Qo0GPN4ph4wB",
        "outputId": "d517d6fb-b7ec-4e92-a3e0-7fc57e0354e9"
      },
      "execution_count": null,
      "outputs": [
        {
          "output_type": "stream",
          "name": "stdout",
          "text": [
            "Enter a sentence: My name is Moksh\n",
            "\n",
            "Word Occurrences:\n",
            "my: 1\n",
            "name: 1\n",
            "is: 1\n",
            "moksh: 1\n"
          ]
        }
      ]
    },
    {
      "cell_type": "markdown",
      "source": [
        "•\tMerge two dictionaries and sort the result by keys."
      ],
      "metadata": {
        "id": "Hy_RJByykub0"
      }
    },
    {
      "cell_type": "code",
      "source": [
        "# Define two dictionaries\n",
        "dict1 = {\"b\": 2, \"a\": 1}\n",
        "dict2 = {\"d\": 4, \"c\": 3}\n",
        "\n",
        "# Merge and sort the dictionaries\n",
        "merged_dict = {**dict1, **dict2}\n",
        "sorted_dict = dict(sorted(merged_dict.items()))\n",
        "\n",
        "# Display the result\n",
        "print(\"Sorted Merged Dictionary:\", sorted_dict)\n"
      ],
      "metadata": {
        "colab": {
          "base_uri": "https://localhost:8080/"
        },
        "id": "D0-ZhTUjkyA7",
        "outputId": "a43b9101-a66d-4104-aba8-9b83fdc50ee2"
      },
      "execution_count": null,
      "outputs": [
        {
          "output_type": "stream",
          "name": "stdout",
          "text": [
            "Sorted Merged Dictionary: {'a': 1, 'b': 2, 'c': 3, 'd': 4}\n"
          ]
        }
      ]
    },
    {
      "cell_type": "markdown",
      "source": [
        "# **9. File Handling**\n",
        "\n",
        "---\n",
        "\n"
      ],
      "metadata": {
        "id": "ZwT3WEAulkrt"
      }
    },
    {
      "cell_type": "markdown",
      "source": [
        "•\tWrite data to a file and then read it back."
      ],
      "metadata": {
        "id": "lmACT8pmloc4"
      }
    },
    {
      "cell_type": "code",
      "source": [
        "file_name = \"/content/drive/MyDrive/Python_Practice/sample.txt\"\n",
        "\n",
        "# Write data to the file\n",
        "with open(file_name, \"w\") as file:\n",
        "    file.write(\"Hello, this is a sample text file\")\n",
        "\n",
        "# Read and print the content\n",
        "with open(file_name, \"r\") as file:\n",
        "    print(file.read())\n"
      ],
      "metadata": {
        "colab": {
          "base_uri": "https://localhost:8080/"
        },
        "id": "NVCCR2g00ftM",
        "outputId": "62fc464b-068e-4126-80ae-0e03e5a13cd9"
      },
      "execution_count": 1,
      "outputs": [
        {
          "output_type": "stream",
          "name": "stdout",
          "text": [
            "Hello, this is a sample text file\n"
          ]
        }
      ]
    },
    {
      "cell_type": "markdown",
      "source": [
        "•\tCount the number of lines, words, and characters in a text file."
      ],
      "metadata": {
        "id": "kOpRsLVz_Q-s"
      }
    },
    {
      "cell_type": "code",
      "source": [
        "file_name = \"/content/drive/MyDrive/Python_Practice/sample.txt\"\n",
        "\n",
        "# Write data to the file\n",
        "with open(file_name, \"w\") as file:\n",
        "    file.write(\"Hello, this is a sample text file.\\n\")\n",
        "    file.write(\"Writing and reading files in Python is easy.\\n\")\n",
        "\n",
        "# Count lines, words, and characters in the file\n",
        "with open(file_name, \"r\") as file:\n",
        "    lines = file.readlines()\n",
        "    line_count = len(lines)\n",
        "    word_count = sum(len(line.split()) for line in lines)\n",
        "    char_count = sum(len(line) for line in lines)\n",
        "\n",
        "print(f\"Lines: {line_count}\")\n",
        "print(f\"Words: {word_count}\")\n",
        "print(f\"Characters: {char_count}\")\n"
      ],
      "metadata": {
        "colab": {
          "base_uri": "https://localhost:8080/"
        },
        "id": "gYG75vNEzIkB",
        "outputId": "8902c638-d6cc-4371-d8d1-5e5658126c57"
      },
      "execution_count": 2,
      "outputs": [
        {
          "output_type": "stream",
          "name": "stdout",
          "text": [
            "Lines: 2\n",
            "Words: 15\n",
            "Characters: 80\n"
          ]
        }
      ]
    },
    {
      "cell_type": "markdown",
      "source": [
        "•\tAppend new data to an existing file without overwriting."
      ],
      "metadata": {
        "id": "H6w2hNGc_p3K"
      }
    },
    {
      "cell_type": "code",
      "source": [
        "# Open the file in append mode\n",
        "with open(\"/content/drive/MyDrive/Python_Practice/sample.txt\", \"a\") as file:\n",
        "    # Append data to the file\n",
        "    file.write(\"\\nThis is the new data being appended.\")\n",
        "\n",
        "print(\"Data appended successfully.\")\n"
      ],
      "metadata": {
        "colab": {
          "base_uri": "https://localhost:8080/"
        },
        "id": "diZOK_Z2_t1T",
        "outputId": "eca47e1a-9fbf-4dee-adb7-ba856db72485"
      },
      "execution_count": 3,
      "outputs": [
        {
          "output_type": "stream",
          "name": "stdout",
          "text": [
            "Data appended successfully.\n"
          ]
        }
      ]
    },
    {
      "cell_type": "markdown",
      "source": [
        "# **10. Exception Handling**\n",
        "\n",
        "---\n",
        "\n"
      ],
      "metadata": {
        "id": "Zm5eW-6f_9Q1"
      }
    },
    {
      "cell_type": "markdown",
      "source": [
        "•\tWrite a program that handles division by zero."
      ],
      "metadata": {
        "id": "mGecM4O1ACLL"
      }
    },
    {
      "cell_type": "code",
      "source": [
        "try:\n",
        "    num = float(input(\"Enter the numerator: \"))\n",
        "    den = float(input(\"Enter the denominator: \"))\n",
        "    print(num / den if den != 0 else \"Error: Division by zero is not allowed.\")\n",
        "except ValueError:\n",
        "    print(\"Error: Please enter valid numbers.\")\n"
      ],
      "metadata": {
        "colab": {
          "base_uri": "https://localhost:8080/"
        },
        "id": "eTYc_iZLBCnb",
        "outputId": "57e02f96-b3f1-4f53-e7d7-9b5d53b818a5"
      },
      "execution_count": 4,
      "outputs": [
        {
          "output_type": "stream",
          "name": "stdout",
          "text": [
            "Enter the numerator: 10\n",
            "Enter the denominator: 0\n",
            "Error: Division by zero is not allowed.\n"
          ]
        }
      ]
    },
    {
      "cell_type": "markdown",
      "source": [
        "•\tCreate a program to handle invalid inputs while calculating square roots."
      ],
      "metadata": {
        "id": "oiC9sDCCXdow"
      }
    },
    {
      "cell_type": "code",
      "source": [
        "import math\n",
        "\n",
        "try:\n",
        "    num = float(input(\"Enter a number to calculate its square root: \"))\n",
        "    if num < 0:\n",
        "        print(\"Error: Cannot calculate the square root of a negative number.\")\n",
        "    else:\n",
        "        print(f\"The square root of {num} is {math.sqrt(num):.2f}\")\n",
        "except ValueError:\n",
        "    print(\"Error: Please enter a valid number.\")\n"
      ],
      "metadata": {
        "colab": {
          "base_uri": "https://localhost:8080/"
        },
        "id": "hDWgg0VdXi0G",
        "outputId": "20fb6f82-188a-4727-a150-a1a785bf24a6"
      },
      "execution_count": 5,
      "outputs": [
        {
          "output_type": "stream",
          "name": "stdout",
          "text": [
            "Enter a number to calculate its square root: -1\n",
            "Error: Cannot calculate the square root of a negative number.\n"
          ]
        }
      ]
    },
    {
      "cell_type": "markdown",
      "source": [
        "•\tDevelop a custom exception for age verification in a voting system."
      ],
      "metadata": {
        "id": "HxlnOJrFXv-F"
      }
    },
    {
      "cell_type": "code",
      "source": [
        "class AgeVerificationError(Exception):\n",
        "    pass\n",
        "\n",
        "def verify_age(age):\n",
        "    if age < 18:\n",
        "        raise AgeVerificationError(\"Age must be 18 or above to vote.\")\n",
        "    return \"You are eligible to vote.\"\n",
        "\n",
        "try:\n",
        "    age = int(input(\"Enter your age: \"))\n",
        "    print(verify_age(age))\n",
        "except AgeVerificationError as e:\n",
        "    print(f\"Error: {e}\")\n",
        "except ValueError:\n",
        "    print(\"Error: Please enter a valid number.\")\n"
      ],
      "metadata": {
        "colab": {
          "base_uri": "https://localhost:8080/"
        },
        "id": "YaYdsKzGX0AX",
        "outputId": "17ededd8-4977-4b5c-9758-f534bd5a633f"
      },
      "execution_count": 6,
      "outputs": [
        {
          "output_type": "stream",
          "name": "stdout",
          "text": [
            "Enter your age: 17\n",
            "Error: Age must be 18 or above to vote.\n"
          ]
        }
      ]
    },
    {
      "cell_type": "markdown",
      "source": [
        "# **11. Classes and Objects**\n",
        "\n",
        "---\n",
        "\n"
      ],
      "metadata": {
        "id": "unI4_0SKYA-z"
      }
    },
    {
      "cell_type": "markdown",
      "source": [
        "•\tDefine a class for a rectangle and calculate its area and perimeter."
      ],
      "metadata": {
        "id": "E6uFeFpkYP1d"
      }
    },
    {
      "cell_type": "code",
      "source": [
        "class Rectangle:\n",
        "    def __init__(self, length, width):\n",
        "        self.length = length\n",
        "        self.width = width\n",
        "\n",
        "    def area(self):\n",
        "        return self.length * self.width\n",
        "\n",
        "    def perimeter(self):\n",
        "        return 2 * (self.length + self.width)\n",
        "\n",
        "# Example usage\n",
        "length = float(input(\"Enter the length of the rectangle: \"))\n",
        "width = float(input(\"Enter the width of the rectangle: \"))\n",
        "rect = Rectangle(length, width)\n",
        "\n",
        "print(f\"Area: {rect.area()}\")\n",
        "print(f\"Perimeter: {rect.perimeter()}\")\n"
      ],
      "metadata": {
        "colab": {
          "base_uri": "https://localhost:8080/"
        },
        "id": "yDQQut0tYUnl",
        "outputId": "9eae654b-3b40-46a0-8bb9-393c1caf541e"
      },
      "execution_count": 7,
      "outputs": [
        {
          "output_type": "stream",
          "name": "stdout",
          "text": [
            "Enter the length of the rectangle: 4\n",
            "Enter the width of the rectangle: 2\n",
            "Area: 8.0\n",
            "Perimeter: 12.0\n"
          ]
        }
      ]
    },
    {
      "cell_type": "markdown",
      "source": [
        "•\tCreate a student class with attributes for name, age, and grades. Add methods to display details."
      ],
      "metadata": {
        "id": "0neZskCMa1yz"
      }
    },
    {
      "cell_type": "code",
      "source": [
        "class Student:\n",
        "    def __init__(self, name, age, grades):\n",
        "        self.name = name\n",
        "        self.age = age\n",
        "        self.grades = grades\n",
        "\n",
        "    def display_details(self):\n",
        "        print(f\"Name: {self.name}, Age: {self.age}, Grades: {self.grades}\")\n",
        "        print(f\"Average Grade: {sum(self.grades) / len(self.grades):.2f}\" if self.grades else \"No grades available.\")\n",
        "\n",
        "# Example usage\n",
        "student = Student(\n",
        "    input(\"Enter the student's name: \"),\n",
        "    int(input(\"Enter the student's age: \")),\n",
        "    list(map(float, input(\"Enter the student's grades separated by spaces: \").split()))\n",
        ")\n",
        "student.display_details()\n"
      ],
      "metadata": {
        "colab": {
          "base_uri": "https://localhost:8080/"
        },
        "id": "vsk5OVxKa5cV",
        "outputId": "a9d2d19f-60af-4ba7-acb3-8674d3314745"
      },
      "execution_count": 9,
      "outputs": [
        {
          "output_type": "stream",
          "name": "stdout",
          "text": [
            "Enter the student's name: Moksh Mahajan\n",
            "Enter the student's age: 20\n",
            "Enter the student's grades separated by spaces: 90 91 78 99\n",
            "Name: Moksh Mahajan, Age: 20, Grades: [90.0, 91.0, 78.0, 99.0]\n",
            "Average Grade: 89.50\n"
          ]
        }
      ]
    },
    {
      "cell_type": "markdown",
      "source": [
        "•\tImplement an inheritance example with a base class and derived class."
      ],
      "metadata": {
        "id": "VptymQPFbjmA"
      }
    },
    {
      "cell_type": "code",
      "source": [
        "# Base class\n",
        "class Animal:\n",
        "    def __init__(self, name):\n",
        "        self.name = name\n",
        "\n",
        "    def speak(self):\n",
        "        return f\"{self.name} makes a sound.\"\n",
        "\n",
        "# Derived class\n",
        "class Dog(Animal):\n",
        "    def speak(self):\n",
        "        return f\"{self.name} barks.\"\n",
        "\n",
        "# Example usage\n",
        "animal = Animal(\"Generic Animal\")\n",
        "dog = Dog(\"Buddy\")\n",
        "\n",
        "print(animal.speak())  # Output: Generic Animal makes a sound.\n",
        "print(dog.speak())     # Output: Buddy barks.\n"
      ],
      "metadata": {
        "colab": {
          "base_uri": "https://localhost:8080/"
        },
        "id": "8fDXWsIybkr0",
        "outputId": "31377d9e-98ff-4c45-ffe4-bf0fe73be366"
      },
      "execution_count": 10,
      "outputs": [
        {
          "output_type": "stream",
          "name": "stdout",
          "text": [
            "Generic Animal makes a sound.\n",
            "Buddy barks.\n"
          ]
        }
      ]
    },
    {
      "cell_type": "markdown",
      "source": [
        "12. Using a conditional, write the relu function defined as follows\n",
        "\n",
        "relu={x, if x≥0; 0, otherwise\n"
      ],
      "metadata": {
        "id": "YhXUoOtVb2wl"
      }
    },
    {
      "cell_type": "code",
      "source": [
        "def relu(x):\n",
        "    return x if x >= 0 else 0\n",
        "\n",
        "# Example usage\n",
        "x = float(input(\"Enter a number: \"))\n",
        "print(f\"ReLU({x}) = {relu(x)}\")\n"
      ],
      "metadata": {
        "colab": {
          "base_uri": "https://localhost:8080/"
        },
        "id": "sWgfdTtib8-p",
        "outputId": "6410fc22-2447-42f3-c1e2-53c8e519ff4d"
      },
      "execution_count": 12,
      "outputs": [
        {
          "output_type": "stream",
          "name": "stdout",
          "text": [
            "Enter a number: -2\n",
            "ReLU(-2.0) = 0\n"
          ]
        }
      ]
    }
  ]
}