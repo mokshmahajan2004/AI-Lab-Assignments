{
  "nbformat": 4,
  "nbformat_minor": 0,
  "metadata": {
    "colab": {
      "provenance": [],
      "authorship_tag": "ABX9TyNt/TKoaJVAFxatYQZ7CF23",
      "include_colab_link": true
    },
    "kernelspec": {
      "name": "python3",
      "display_name": "Python 3"
    },
    "language_info": {
      "name": "python"
    }
  },
  "cells": [
    {
      "cell_type": "markdown",
      "metadata": {
        "id": "view-in-github",
        "colab_type": "text"
      },
      "source": [
        "<a href=\"https://colab.research.google.com/github/mokshmahajan2004/AI-Lab-Assignments/blob/main/Lab2.ipynb\" target=\"_parent\"><img src=\"https://colab.research.google.com/assets/colab-badge.svg\" alt=\"Open In Colab\"/></a>"
      ]
    },
    {
      "cell_type": "markdown",
      "source": [
        "Q1 For the given tree below, write Python code to find the tree traverse and path from\n",
        "start node (A) to goal node (L) using breadth-first search (BFS) and depth\n",
        "first search (DFS).\n",
        "\n",
        "Also, the sequence of nodes traversed in both cases should be displayed."
      ],
      "metadata": {
        "id": "s1D1R2TJzEen"
      }
    },
    {
      "cell_type": "code",
      "source": [
        "from collections import deque\n",
        "\n",
        "class Tree:\n",
        "    def __init__(self):\n",
        "        self.graph = {\n",
        "            'A': ['B'],\n",
        "            'B': ['C', 'H'],\n",
        "            'C': ['D'],\n",
        "            'D': ['E', 'G'],\n",
        "            'E': ['F'],\n",
        "            'F': [],\n",
        "            'G': [],\n",
        "            'H': ['I', 'J', 'M'],\n",
        "            'I': [],\n",
        "            'J': ['K'],\n",
        "            'K': ['L'],\n",
        "            'L': [],\n",
        "            'M': []\n",
        "        }\n",
        "\n",
        "    def bfs(self, start, goal):\n",
        "        queue = deque([[start]])\n",
        "        visited = set()\n",
        "        traversal_order = []\n",
        "\n",
        "        while queue:\n",
        "            path = queue.popleft()\n",
        "            node = path[-1]\n",
        "            traversal_order.append(node)\n",
        "\n",
        "            if node == goal:\n",
        "                return path, traversal_order\n",
        "\n",
        "            if node not in visited:\n",
        "                visited.add(node)\n",
        "                for neighbor in self.graph.get(node, []):\n",
        "                    new_path = list(path)\n",
        "                    new_path.append(neighbor)\n",
        "                    queue.append(new_path)\n",
        "\n",
        "        return None, traversal_order\n",
        "\n",
        "    def dfs(self, start, goal):\n",
        "        stack = [[start]]\n",
        "        visited = set()\n",
        "        traversal_order = []\n",
        "\n",
        "        while stack:\n",
        "            path = stack.pop()\n",
        "            node = path[-1]\n",
        "            traversal_order.append(node)\n",
        "\n",
        "            if node == goal:\n",
        "                return path, traversal_order\n",
        "\n",
        "            if node not in visited:\n",
        "                visited.add(node)\n",
        "                for neighbor in reversed(self.graph.get(node, [])):  # Reverse to maintain order\n",
        "                    new_path = list(path)\n",
        "                    new_path.append(neighbor)\n",
        "                    stack.append(new_path)\n",
        "\n",
        "        return None, traversal_order\n",
        "\n",
        "\n",
        "# Initialize Tree\n",
        "tree = Tree()\n",
        "\n",
        "# Perform BFS and DFS\n",
        "bfs_path, bfs_traversal = tree.bfs('A', 'L')\n",
        "dfs_path, dfs_traversal = tree.dfs('A', 'L')\n",
        "\n",
        "# Display results\n",
        "print(\"BFS Traversal Order:\", bfs_traversal)\n",
        "print(\"BFS Path from A to L:\", bfs_path)\n",
        "\n",
        "print(\"\\nDFS Traversal Order:\", dfs_traversal)\n",
        "print(\"DFS Path from A to L:\", dfs_path)\n"
      ],
      "metadata": {
        "id": "adwMeI8nqRn0",
        "colab": {
          "base_uri": "https://localhost:8080/"
        },
        "outputId": "f047da2a-bce5-441c-d936-d47bc6514a46"
      },
      "execution_count": 1,
      "outputs": [
        {
          "output_type": "stream",
          "name": "stdout",
          "text": [
            "BFS Traversal Order: ['A', 'B', 'C', 'H', 'D', 'I', 'J', 'M', 'E', 'G', 'K', 'F', 'L']\n",
            "BFS Path from A to L: ['A', 'B', 'H', 'J', 'K', 'L']\n",
            "\n",
            "DFS Traversal Order: ['A', 'B', 'C', 'D', 'E', 'F', 'G', 'H', 'I', 'J', 'K', 'L']\n",
            "DFS Path from A to L: ['A', 'B', 'H', 'J', 'K', 'L']\n"
          ]
        }
      ]
    },
    {
      "cell_type": "markdown",
      "source": [
        "Design and implement a Python program that demonstrates the working of Uniform Cost Search algorithm, a graph search strategy that searches for the shortest path from Start Node “A” to the goal node “E”, in the directed graph. The directed graph is presented as below:\n",
        "\n",
        "\n",
        "There is a directed weighted edge\n",
        "\n",
        "from A to B with a cost of 1.\n",
        "There is a directed weighted edge\n",
        "\n",
        "from A to C with a cost of 4.\n",
        "\n",
        "There is a directed weighted edge\n",
        "\n",
        "from B to C with a cost of 2.\n",
        "\n",
        "There is a directed weighted edge\n",
        "\n",
        "from B to D with a cost of 5.\n",
        "\n",
        "There is a directed weighted edge\n",
        "\n",
        "from C to D with a cost of 1.\n",
        "\n",
        "There is a directed weighted edge\n",
        "\n",
        "from D to E with a cost of 3."
      ],
      "metadata": {
        "id": "bLNZ03fQzbhk"
      }
    },
    {
      "cell_type": "code",
      "source": [
        "import heapq\n",
        "\n",
        "class Graph:\n",
        "    def __init__(self):\n",
        "        self.graph = {\n",
        "            'A': [('B', 1), ('C', 4)],\n",
        "            'B': [('C', 2), ('D', 5)],\n",
        "            'C': [('D', 1)],\n",
        "            'D': [('E', 3)],\n",
        "            'E': []\n",
        "        }\n",
        "\n",
        "    def uniform_cost_search(self, start, goal):\n",
        "        priority_queue = [(0, start, [])]  # (cost, node, path)\n",
        "        visited = set()\n",
        "\n",
        "        while priority_queue:\n",
        "            cost, node, path = heapq.heappop(priority_queue)\n",
        "\n",
        "            if node in visited:\n",
        "                continue\n",
        "            path = path + [node]\n",
        "            visited.add(node)\n",
        "\n",
        "            if node == goal:\n",
        "                return path, cost\n",
        "\n",
        "            for neighbor, edge_cost in self.graph.get(node, []):\n",
        "                if neighbor not in visited:\n",
        "                    heapq.heappush(priority_queue, (cost + edge_cost, neighbor, path))\n",
        "\n",
        "        return None, float('inf')\n",
        "\n",
        "# Initialize Graph\n",
        "graph = Graph()\n",
        "\n",
        "# Run UCS from A to E\n",
        "path, total_cost = graph.uniform_cost_search('A', 'E')\n",
        "\n",
        "# Display results\n",
        "print(\"Uniform Cost Search Path:\", path)\n",
        "print(\"Total Cost:\", total_cost)\n"
      ],
      "metadata": {
        "colab": {
          "base_uri": "https://localhost:8080/"
        },
        "id": "qHYmprXVy4UO",
        "outputId": "76942bab-7a45-4682-bb69-2ccc4e42a174"
      },
      "execution_count": 2,
      "outputs": [
        {
          "output_type": "stream",
          "name": "stdout",
          "text": [
            "Uniform Cost Search Path: ['A', 'B', 'C', 'D', 'E']\n",
            "Total Cost: 7\n"
          ]
        }
      ]
    },
    {
      "cell_type": "markdown",
      "source": [
        "A needs to travel between two locations in a city with the least fuel cost. The city roads are represented as a graph, where:\n",
        "Intersections are nodes.\n",
        "\n",
        "*   Roads are edges with weights representing fuel costs.\n",
        "*   The is to find the least-cost path between a start location and a destination.\n",
        "\n",
        "*   The numbers present the fuel cost to travel between intersections.\n",
        "*   The robot needs to find the least cost path from A to E.\n",
        "\n",
        "\n",
        "\n",
        "\n",
        "\n",
        "\n",
        "\n"
      ],
      "metadata": {
        "id": "SVb9TSpl0NUv"
      }
    },
    {
      "cell_type": "code",
      "source": [
        "import heapq\n",
        "\n",
        "class CityGraph:\n",
        "    def __init__(self):\n",
        "        self.graph = {\n",
        "            'A': {'B': 1, 'C': 4},\n",
        "            'B': {'C': 2, 'D': 5},\n",
        "            'C': {'D': 1},\n",
        "            'D': {'E': 3},\n",
        "            'E': {}\n",
        "        }\n",
        "\n",
        "    def find_least_cost_path(self, start, goal):\n",
        "        priority_queue = [(0, start, [])]  # (fuel_cost, current_node, path)\n",
        "        visited = set()\n",
        "\n",
        "        while priority_queue:\n",
        "            fuel_cost, node, path = heapq.heappop(priority_queue)\n",
        "\n",
        "            if node in visited:\n",
        "                continue\n",
        "            path = path + [node]\n",
        "            visited.add(node)\n",
        "\n",
        "            if node == goal:\n",
        "                return path, fuel_cost\n",
        "\n",
        "            for neighbor, cost in self.graph.get(node, {}).items():\n",
        "                if neighbor not in visited:\n",
        "                    heapq.heappush(priority_queue, (fuel_cost + cost, neighbor, path))\n",
        "\n",
        "        return None, float('inf')\n",
        "\n",
        "# Initialize City Graph\n",
        "city_graph = CityGraph()\n",
        "\n",
        "# Find least cost path from A to E\n",
        "path, total_cost = city_graph.find_least_cost_path('A', 'E')\n",
        "\n",
        "# Display results\n",
        "print(\"Least Fuel Cost Path:\", path)\n",
        "print(\"Total Fuel Cost:\", total_cost)\n"
      ],
      "metadata": {
        "colab": {
          "base_uri": "https://localhost:8080/"
        },
        "id": "6xqp9H650mYG",
        "outputId": "d90a25f8-faef-49e7-c6d6-ff3e012cf0a4"
      },
      "execution_count": 3,
      "outputs": [
        {
          "output_type": "stream",
          "name": "stdout",
          "text": [
            "Least Fuel Cost Path: ['A', 'B', 'C', 'D', 'E']\n",
            "Total Fuel Cost: 7\n"
          ]
        }
      ]
    }
  ]
}