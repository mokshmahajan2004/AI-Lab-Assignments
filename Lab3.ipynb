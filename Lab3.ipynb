{
  "nbformat": 4,
  "nbformat_minor": 0,
  "metadata": {
    "colab": {
      "provenance": [],
      "authorship_tag": "ABX9TyOoDkvzzd/HgDiLAYXLem+k",
      "include_colab_link": true
    },
    "kernelspec": {
      "name": "python3",
      "display_name": "Python 3"
    },
    "language_info": {
      "name": "python"
    }
  },
  "cells": [
    {
      "cell_type": "markdown",
      "metadata": {
        "id": "view-in-github",
        "colab_type": "text"
      },
      "source": [
        "<a href=\"https://colab.research.google.com/github/mokshmahajan2004/AI-Lab-Assignments/blob/main/Lab3.ipynb\" target=\"_parent\"><img src=\"https://colab.research.google.com/assets/colab-badge.svg\" alt=\"Open In Colab\"/></a>"
      ]
    },
    {
      "cell_type": "markdown",
      "source": [
        "Name:**Moksh Mahajan**  \n",
        "\n",
        "Roll No:**102206084**\n",
        "\n",
        "Subgroup:**3F1C**"
      ],
      "metadata": {
        "id": "0xYGK4mEbSIv"
      }
    },
    {
      "cell_type": "markdown",
      "source": [
        "Q1.The eight-queens problem poses the question of how eight queens can be placed on a chessboard without any queen attacking another queen. The problem is illustrated in the figure. Find out the solution to the eight queens problem by CSP implementation. Carefully define variables, domains, and constraints for a given problem."
      ],
      "metadata": {
        "id": "g5iaXEJ8GVLg"
      }
    },
    {
      "cell_type": "markdown",
      "source": [
        "Solution:\n",
        "\n",
        "The goal is to place 8 queens on a chessboard such that:\n",
        "\n",
        "\n",
        "\n",
        "*  No two queens occupy the same row.\n",
        "* No two queens occupy the same column.\n",
        "*  No two queens occupy the same diagonal.\n",
        "\n",
        "\n",
        "Constraint Satisfaction Problem (CSP) Formulation\n",
        "1. Variables\n",
        "\n",
        "  Each queen is placed in a different row, hence:\n",
        "\n",
        "  Qi denotes the column position of the queen in row i, where i E {1,2,3....8}\n",
        "\n",
        "2. Domains\n",
        "\n",
        "  The domain of each variable Qi is:\n",
        "\n",
        "  Di={1,2,3,..8}, representing the 8 possible columns in which a queen can be placed in row i.\n",
        "\n",
        "3. Constraints\n",
        "\n",
        "  The constraints ensure that no two queens can threaten each other:\n",
        "\n",
        "  Row Constraint: Since each row has exactly one queen, this constraint is inherently satisfied by the formulation.\n",
        "\n",
        "  Column Constraint: No two queens should be in the same column.\n",
        "\n",
        "  $Q_i$$ \\neq $$Q_j$  for i$ \\neq $j.\n",
        "\n",
        "  Diagonal Constraint: No two queens should be on the same diagonal.\n",
        "\n",
        "    For left diagonals:\n",
        "    $Q_i$$ - $$Q_j$ $ \\neq $ i - j\n",
        "\n",
        "    This ensures that no two queens lie on the same diagonal."
      ],
      "metadata": {
        "id": "SCvu_Q2FJnCW"
      }
    },
    {
      "cell_type": "markdown",
      "source": [
        "I have shown 5 solutions.There can be more number of solutions."
      ],
      "metadata": {
        "id": "bAq3KEeyPzH5"
      }
    },
    {
      "cell_type": "code",
      "source": [
        "solution_count = 0\n",
        "\n",
        "def is_safe(board, row, col):\n",
        "    for i in range(row):\n",
        "        # Check column and diagonals\n",
        "        if board[i] == col or abs(board[i] - col) == abs(i - row):\n",
        "            return False\n",
        "    return True\n",
        "\n",
        "def solve_n_queens(board, row, n):\n",
        "    global solution_count\n",
        "    if row == n:\n",
        "        if solution_count < 5:\n",
        "            print_solution(board, n)\n",
        "            solution_count += 1\n",
        "        return\n",
        "\n",
        "    for col in range(n):\n",
        "        if is_safe(board, row, col):\n",
        "            board[row] = col\n",
        "            solve_n_queens(board, row + 1, n)\n",
        "\n",
        "def print_solution(board, n):\n",
        "    for i in range(n):\n",
        "        row = [\".\"] * n\n",
        "        row[board[i]] = \"Q\"\n",
        "        print(\" \".join(row))\n",
        "    print(\"\\n\")\n",
        "\n",
        "def n_queens(n=8):\n",
        "    global solution_count\n",
        "    solution_count = 0\n",
        "    board = [-1] * n\n",
        "    solve_n_queens(board, 0, n)\n",
        "\n",
        "n_queens()\n"
      ],
      "metadata": {
        "id": "wzeZb-TVF-G9",
        "colab": {
          "base_uri": "https://localhost:8080/"
        },
        "outputId": "46449735-462f-4440-efb2-8026fbaa6b0f"
      },
      "execution_count": null,
      "outputs": [
        {
          "output_type": "stream",
          "name": "stdout",
          "text": [
            "Q . . . . . . .\n",
            ". . . . Q . . .\n",
            ". . . . . . . Q\n",
            ". . . . . Q . .\n",
            ". . Q . . . . .\n",
            ". . . . . . Q .\n",
            ". Q . . . . . .\n",
            ". . . Q . . . .\n",
            "\n",
            "\n",
            "Q . . . . . . .\n",
            ". . . . . Q . .\n",
            ". . . . . . . Q\n",
            ". . Q . . . . .\n",
            ". . . . . . Q .\n",
            ". . . Q . . . .\n",
            ". Q . . . . . .\n",
            ". . . . Q . . .\n",
            "\n",
            "\n",
            "Q . . . . . . .\n",
            ". . . . . . Q .\n",
            ". . . Q . . . .\n",
            ". . . . . Q . .\n",
            ". . . . . . . Q\n",
            ". Q . . . . . .\n",
            ". . . . Q . . .\n",
            ". . Q . . . . .\n",
            "\n",
            "\n",
            "Q . . . . . . .\n",
            ". . . . . . Q .\n",
            ". . . . Q . . .\n",
            ". . . . . . . Q\n",
            ". Q . . . . . .\n",
            ". . . Q . . . .\n",
            ". . . . . Q . .\n",
            ". . Q . . . . .\n",
            "\n",
            "\n",
            ". Q . . . . . .\n",
            ". . . Q . . . .\n",
            ". . . . . Q . .\n",
            ". . . . . . . Q\n",
            ". . Q . . . . .\n",
            "Q . . . . . . .\n",
            ". . . . . . Q .\n",
            ". . . . Q . . .\n",
            "\n",
            "\n"
          ]
        }
      ]
    },
    {
      "cell_type": "markdown",
      "source": [
        "![Assignment 3 (Q2).jpg](data:image/jpeg;base64,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)\n",
        "\n",
        "Q2.Consider the following tree-like graph shown in Fig. Suppose that the top level is a MAX node (the A node is the MAX node). Use the Minimax algorithm with alpha-beta pruning to determine what action A should take and the associated utility. That is, which direction should the player move from A (B or C), and why? Also indicate which nodes of the trees will be pruned using alpha-beta pruning using Python."
      ],
      "metadata": {
        "id": "tjCw0DPKBgae"
      }
    },
    {
      "cell_type": "markdown",
      "source": [
        "Solution:\n",
        "\n",
        "The Minimax algorithm with Alpha-Beta Pruning determines that the best move from A is to B with a utility value of 7. The algorithm works by recursively evaluating the tree, where MAX nodes try to maximize the value and MIN nodes try to minimize it.\n",
        "\n",
        "Alpha-Beta pruning eliminates unnecessary branches, improving efficiency. In this case, the pruned nodes are 2, J, 4, 6, and F, meaning they were skipped as they wouldn't affect the final decision. The Python implementation uses a recursive approach, storing pruned nodes and computing the best move by comparing values while pruning branches where beta <= alpha. Since B results in a higher utility than C, A should choose B.\n",
        "\n",
        "\n"
      ],
      "metadata": {
        "id": "j_xNrB7kCFvl"
      }
    },
    {
      "cell_type": "code",
      "source": [
        "import math\n",
        "\n",
        "# Minimax function with Alpha-Beta Pruning\n",
        "def minimax(node, depth, is_max, alpha, beta, tree, pruned_nodes):\n",
        "    if node not in tree:\n",
        "        return node  # Leaf node value\n",
        "\n",
        "    if is_max:  # Maximizing Player\n",
        "        max_eval = -math.inf\n",
        "        for child in tree[node]:\n",
        "            eval = minimax(child, depth + 1, False, alpha, beta, tree, pruned_nodes)\n",
        "            max_eval = max(max_eval, eval)\n",
        "            alpha = max(alpha, eval)\n",
        "            if beta <= alpha:\n",
        "                pruned_nodes.append(child)  # Record pruned node\n",
        "                break  # Prune remaining branches\n",
        "        return max_eval\n",
        "    else:  # Minimizing Player\n",
        "        min_eval = math.inf\n",
        "        for child in tree[node]:\n",
        "            eval = minimax(child, depth + 1, True, alpha, beta, tree, pruned_nodes)\n",
        "            min_eval = min(min_eval, eval)\n",
        "            beta = min(beta, eval)\n",
        "            if beta <= alpha:\n",
        "                pruned_nodes.append(child)  # Record pruned node\n",
        "                break  # Prune remaining branches\n",
        "        return min_eval\n",
        "\n",
        "# Define the tree structure as a dictionary\n",
        "tree = {\n",
        "    'A': ['B', 'C'],\n",
        "    'B': ['D', 'E'],\n",
        "    'C': ['F', 'G'],\n",
        "    'D': ['H', 'I'],\n",
        "    'E': ['J', 'K'],\n",
        "    'F': ['L', 'M'],\n",
        "    'G': ['N', 'O', 'P'],\n",
        "    'H': [8, 7],\n",
        "    'I': [9, 2],\n",
        "    'J': [11, 8],\n",
        "    'K': [10, 3],\n",
        "    'L': [12, 4],\n",
        "    'M': [6, 9],\n",
        "    'N': [6, 14],\n",
        "    'O': [12, 20],\n",
        "    'P': [10, 2]\n",
        "}\n",
        "\n",
        "# Identify the best move for A\n",
        "pruned_nodes = []\n",
        "alpha, beta = -math.inf, math.inf\n",
        "best_move = None\n",
        "best_value = -math.inf\n",
        "\n",
        "for child in tree['A']:\n",
        "    value = minimax(child, 1, False, alpha, beta, tree, pruned_nodes)\n",
        "    if value > best_value:\n",
        "        best_value = value\n",
        "        best_move = child\n",
        "    alpha = max(alpha, best_value)\n",
        "\n",
        "# Output the result\n",
        "print(f\"Best move from A: {best_move}\")\n",
        "print(f\"Utility value: {best_value}\")\n",
        "print(f\"Pruned nodes: {pruned_nodes}\")\n"
      ],
      "metadata": {
        "id": "fWVoBVJ5Pxer",
        "colab": {
          "base_uri": "https://localhost:8080/"
        },
        "outputId": "314de927-2632-4d11-ecc3-06f057a5482e"
      },
      "execution_count": 1,
      "outputs": [
        {
          "output_type": "stream",
          "name": "stdout",
          "text": [
            "Best move from A: B\n",
            "Utility value: 7\n",
            "Pruned nodes: [2, 'J', 4, 6, 'F']\n"
          ]
        }
      ]
    }
  ]
}