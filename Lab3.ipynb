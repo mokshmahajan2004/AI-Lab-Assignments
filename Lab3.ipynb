{
  "nbformat": 4,
  "nbformat_minor": 0,
  "metadata": {
    "colab": {
      "provenance": [],
      "authorship_tag": "ABX9TyPaAigbOSUU8h+XFIN2ywDI",
      "include_colab_link": true
    },
    "kernelspec": {
      "name": "python3",
      "display_name": "Python 3"
    },
    "language_info": {
      "name": "python"
    }
  },
  "cells": [
    {
      "cell_type": "markdown",
      "metadata": {
        "id": "view-in-github",
        "colab_type": "text"
      },
      "source": [
        "<a href=\"https://colab.research.google.com/github/mokshmahajan2004/AI-Lab-Assignments/blob/main/Lab3.ipynb\" target=\"_parent\"><img src=\"https://colab.research.google.com/assets/colab-badge.svg\" alt=\"Open In Colab\"/></a>"
      ]
    },
    {
      "cell_type": "markdown",
      "source": [
        "Name:**Moksh Mahajan**  \n",
        "\n",
        "Roll No:**102206084**\n",
        "\n",
        "Subgroup:**3F1C**"
      ],
      "metadata": {
        "id": "0xYGK4mEbSIv"
      }
    },
    {
      "cell_type": "markdown",
      "source": [
        "Q1.The eight-queens problem poses the question of how eight queens can be placed on a chessboard without any queen attacking another queen. The problem is illustrated in the figure. Find out the solution to the eight queens problem by CSP implementation. Carefully define variables, domains, and constraints for a given problem."
      ],
      "metadata": {
        "id": "g5iaXEJ8GVLg"
      }
    },
    {
      "cell_type": "markdown",
      "source": [
        "Solution:\n",
        "\n",
        "The goal is to place 8 queens on a chessboard such that:\n",
        "\n",
        "\n",
        "\n",
        "*  No two queens occupy the same row.\n",
        "* No two queens occupy the same column.\n",
        "*  No two queens occupy the same diagonal.\n",
        "\n",
        "\n",
        "Constraint Satisfaction Problem (CSP) Formulation\n",
        "1. Variables\n",
        "\n",
        "  Each queen is placed in a different row, hence:\n",
        "\n",
        "  Qi denotes the column position of the queen in row i, where i E {1,2,3....8}\n",
        "\n",
        "2. Domains\n",
        "\n",
        "  The domain of each variable Qi is:\n",
        "\n",
        "  Di={1,2,3,..8}, representing the 8 possible columns in which a queen can be placed in row i.\n",
        "\n",
        "3. Constraints\n",
        "\n",
        "  The constraints ensure that no two queens can threaten each other:\n",
        "\n",
        "  Row Constraint: Since each row has exactly one queen, this constraint is inherently satisfied by the formulation.\n",
        "\n",
        "  Column Constraint: No two queens should be in the same column.\n",
        "\n",
        "  $Q_i$$ \\neq $$Q_j$  for i$ \\neq $j.\n",
        "\n",
        "  Diagonal Constraint: No two queens should be on the same diagonal.\n",
        "\n",
        "    For left diagonals:\n",
        "    $Q_i$$ - $$Q_j$ $ \\neq $ i - j\n",
        "\n",
        "    This ensures that no two queens lie on the same diagonal."
      ],
      "metadata": {
        "id": "SCvu_Q2FJnCW"
      }
    },
    {
      "cell_type": "markdown",
      "source": [
        "I have shown 5 solutions.There can be more number of solutions."
      ],
      "metadata": {
        "id": "bAq3KEeyPzH5"
      }
    },
    {
      "cell_type": "code",
      "source": [
        "solution_count = 0\n",
        "\n",
        "def is_safe(board, row, col):\n",
        "    for i in range(row):\n",
        "        # Check column and diagonals\n",
        "        if board[i] == col or abs(board[i] - col) == abs(i - row):\n",
        "            return False\n",
        "    return True\n",
        "\n",
        "def solve_n_queens(board, row, n):\n",
        "    global solution_count\n",
        "    if row == n:\n",
        "        if solution_count < 5:\n",
        "            print_solution(board, n)\n",
        "            solution_count += 1\n",
        "        return\n",
        "\n",
        "    for col in range(n):\n",
        "        if is_safe(board, row, col):\n",
        "            board[row] = col\n",
        "            solve_n_queens(board, row + 1, n)\n",
        "\n",
        "def print_solution(board, n):\n",
        "    for i in range(n):\n",
        "        row = [\".\"] * n\n",
        "        row[board[i]] = \"Q\"\n",
        "        print(\" \".join(row))\n",
        "    print(\"\\n\")\n",
        "\n",
        "def n_queens(n=8):\n",
        "    global solution_count\n",
        "    solution_count = 0\n",
        "    board = [-1] * n\n",
        "    solve_n_queens(board, 0, n)\n",
        "\n",
        "n_queens()\n"
      ],
      "metadata": {
        "id": "wzeZb-TVF-G9",
        "colab": {
          "base_uri": "https://localhost:8080/"
        },
        "outputId": "46449735-462f-4440-efb2-8026fbaa6b0f"
      },
      "execution_count": null,
      "outputs": [
        {
          "output_type": "stream",
          "name": "stdout",
          "text": [
            "Q . . . . . . .\n",
            ". . . . Q . . .\n",
            ". . . . . . . Q\n",
            ". . . . . Q . .\n",
            ". . Q . . . . .\n",
            ". . . . . . Q .\n",
            ". Q . . . . . .\n",
            ". . . Q . . . .\n",
            "\n",
            "\n",
            "Q . . . . . . .\n",
            ". . . . . Q . .\n",
            ". . . . . . . Q\n",
            ". . Q . . . . .\n",
            ". . . . . . Q .\n",
            ". . . Q . . . .\n",
            ". Q . . . . . .\n",
            ". . . . Q . . .\n",
            "\n",
            "\n",
            "Q . . . . . . .\n",
            ". . . . . . Q .\n",
            ". . . Q . . . .\n",
            ". . . . . Q . .\n",
            ". . . . . . . Q\n",
            ". Q . . . . . .\n",
            ". . . . Q . . .\n",
            ". . Q . . . . .\n",
            "\n",
            "\n",
            "Q . . . . . . .\n",
            ". . . . . . Q .\n",
            ". . . . Q . . .\n",
            ". . . . . . . Q\n",
            ". Q . . . . . .\n",
            ". . . Q . . . .\n",
            ". . . . . Q . .\n",
            ". . Q . . . . .\n",
            "\n",
            "\n",
            ". Q . . . . . .\n",
            ". . . Q . . . .\n",
            ". . . . . Q . .\n",
            ". . . . . . . Q\n",
            ". . Q . . . . .\n",
            "Q . . . . . . .\n",
            ". . . . . . Q .\n",
            ". . . . Q . . .\n",
            "\n",
            "\n"
          ]
        }
      ]
    },
    {
      "cell_type": "code",
      "source": [],
      "metadata": {
        "id": "fWVoBVJ5Pxer"
      },
      "execution_count": null,
      "outputs": []
    }
  ]
}